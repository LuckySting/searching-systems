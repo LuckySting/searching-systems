{
 "cells": [
  {
   "cell_type": "code",
   "execution_count": 252,
   "metadata": {},
   "outputs": [],
   "source": [
    "import kglab\n",
    "import rdflib\n",
    "from rdflib.namespace import RDF, RDFS\n",
    "\n",
    "EX = rdflib.Namespace('http://example.org/')"
   ]
  },
  {
   "cell_type": "code",
   "execution_count": 253,
   "metadata": {},
   "outputs": [],
   "source": [
    "menu = rdflib.Graph()\n",
    "menu.bind('ex', EX)"
   ]
  },
  {
   "cell_type": "code",
   "execution_count": 254,
   "metadata": {},
   "outputs": [
    {
     "data": {
      "text/plain": [
       "<Graph identifier=Nb31ad3906ab745bc98022b0ef29e9d1e (<class 'rdflib.graph.Graph'>)>"
      ]
     },
     "execution_count": 254,
     "metadata": {},
     "output_type": "execute_result"
    }
   ],
   "source": [
    "# Properties\n",
    "title = EX.title\n",
    "menu.add((title, RDF.type, RDF.Property))\n",
    "ingridient_of = EX.ingridient_of\n",
    "menu.add((ingridient_of, RDF.type, RDF.Property))\n",
    "contains = EX.contains\n",
    "menu.add((contains, RDF.type, RDF.Property))\n",
    "\n",
    "# Classes\n",
    "Сontent = EX[\"Content\"]\n",
    "menu.add((Сontent, RDF.type, RDFS.Class))\n",
    "menu.add((title, RDFS.domain, Сontent))\n",
    "\n",
    "Ingridient = EX[\"Ingridient\"]\n",
    "menu.add((Ingridient, RDF.type, RDFS.Class))\n",
    "menu.add((contains, RDFS.domain, Ingridient))\n",
    "menu.add((title, RDFS.domain, Ingridient))\n",
    "menu.add((ingridient_of, RDFS.domain, Ingridient))\n",
    "\n",
    "Dish = EX[\"Dish\"]\n",
    "menu.add((Dish, RDF.type, RDFS.Class))\n",
    "menu.add((title, RDFS.domain, Dish))\n",
    "menu.add((Ingridient, RDFS.member, Dish))"
   ]
  },
  {
   "cell_type": "code",
   "execution_count": 255,
   "metadata": {},
   "outputs": [
    {
     "data": {
      "text/plain": [
       "<Graph identifier=Nb31ad3906ab745bc98022b0ef29e9d1e (<class 'rdflib.graph.Graph'>)>"
      ]
     },
     "execution_count": 255,
     "metadata": {},
     "output_type": "execute_result"
    }
   ],
   "source": [
    "# Contents\n",
    "pepper = rdflib.BNode(\"Peper\")\n",
    "menu.add((pepper, RDF.type, Сontent))\n",
    "menu.add((pepper, title, rdflib.Literal(\"Peper\", lang=\"en\")))\n",
    "\n",
    "lactose = rdflib.BNode(\"Lactose\")\n",
    "menu.add((lactose, RDF.type, Сontent))\n",
    "menu.add((lactose, title, rdflib.Literal(\"Lactose\", lang=\"en\")))\n",
    "\n",
    "gluten = rdflib.BNode(\"Gluten\")\n",
    "menu.add((gluten, RDF.type, Сontent))\n",
    "menu.add((gluten, title, rdflib.Literal(\"Gluten\", lang=\"en\")))\n",
    "\n",
    "salt_c = rdflib.BNode(\"Salt\")\n",
    "menu.add((salt_c, RDF.type, Сontent))\n",
    "menu.add((salt_c, title, rdflib.Literal(\"Salt\", lang=\"en\")))"
   ]
  },
  {
   "cell_type": "code",
   "execution_count": 256,
   "metadata": {},
   "outputs": [
    {
     "data": {
      "text/plain": [
       "<Graph identifier=Nb31ad3906ab745bc98022b0ef29e9d1e (<class 'rdflib.graph.Graph'>)>"
      ]
     },
     "execution_count": 256,
     "metadata": {},
     "output_type": "execute_result"
    }
   ],
   "source": [
    "# Ingridients\n",
    "black_papper = rdflib.BNode(\"BlackPepper\")\n",
    "menu.add((black_papper, RDF.type, Ingridient))\n",
    "menu.add((black_papper, title, rdflib.Literal(\"Black pepper\", lang=\"en\")))\n",
    "menu.add((black_papper, contains, pepper))\n",
    "\n",
    "cheese = rdflib.BNode(\"Cheese\")\n",
    "menu.add((cheese, RDF.type, Ingridient))\n",
    "menu.add((cheese, title, rdflib.Literal(\"Cheese\", lang=\"en\")))\n",
    "menu.add((cheese, contains, lactose))\n",
    "\n",
    "wheat_flour = rdflib.BNode(\"WheatFlour\")\n",
    "menu.add((cheese, RDF.type, Ingridient))\n",
    "menu.add((cheese, title, rdflib.Literal(\"Wheat Flour\", lang=\"en\")))\n",
    "menu.add((cheese, contains, gluten))\n",
    "\n",
    "beans = rdflib.BNode(\"Beans\")\n",
    "menu.add((beans, RDF.type, Ingridient))\n",
    "menu.add((beans, title, rdflib.Literal(\"Beans\", lang=\"en\")))\n",
    "menu.add((beans, contains, gluten))\n",
    "\n",
    "bief = rdflib.BNode(\"Bief\")\n",
    "menu.add((bief, RDF.type, Ingridient))\n",
    "menu.add((bief, title, rdflib.Literal(\"Bief\", lang=\"en\")))\n",
    "\n",
    "tomato = rdflib.BNode(\"Tomato\")\n",
    "menu.add((tomato, RDF.type, Ingridient))\n",
    "menu.add((tomato, title, rdflib.Literal(\"Tomato\", lang=\"en\")))\n",
    "\n",
    "salt = rdflib.BNode(\"Tomato\")\n",
    "menu.add((salt, RDF.type, Ingridient))\n",
    "menu.add((salt, title, rdflib.Literal(\"Tomato\", lang=\"en\")))\n",
    "menu.add((salt, contains, salt_c))\n",
    "\n",
    "celery = rdflib.BNode(\"Celery\")\n",
    "menu.add((celery, RDF.type, Ingridient))\n",
    "menu.add((celery, title, rdflib.Literal(\"Celery\", lang=\"en\")))"
   ]
  },
  {
   "cell_type": "code",
   "execution_count": 257,
   "metadata": {},
   "outputs": [
    {
     "data": {
      "text/plain": [
       "<Graph identifier=Nb31ad3906ab745bc98022b0ef29e9d1e (<class 'rdflib.graph.Graph'>)>"
      ]
     },
     "execution_count": 257,
     "metadata": {},
     "output_type": "execute_result"
    }
   ],
   "source": [
    "# Dishes\n",
    "pizza = rdflib.BNode(\"Pizza\")\n",
    "menu.add((pizza, RDF.type, Dish))\n",
    "menu.add((pizza, title, rdflib.Literal(\"Pizza\", lang=\"en\")))\n",
    "menu.add((black_papper, ingridient_of, pizza))\n",
    "menu.add((bief, ingridient_of, pizza))\n",
    "menu.add((wheat_flour, ingridient_of, pizza))\n",
    "menu.add((tomato, ingridient_of, pizza))\n",
    "menu.add((salt, ingridient_of, pizza))\n",
    "\n",
    "chilli_con_carne = rdflib.BNode(\"ChilliConCarne\")\n",
    "menu.add((chilli_con_carne, RDF.type, Dish))\n",
    "menu.add((chilli_con_carne, title, rdflib.Literal(\"Chilli con carne\", lang=\"en\")))\n",
    "menu.add((black_papper, ingridient_of, chilli_con_carne))\n",
    "menu.add((beans, ingridient_of, chilli_con_carne))\n",
    "menu.add((bief, ingridient_of, chilli_con_carne))\n",
    "menu.add((tomato, ingridient_of, chilli_con_carne))\n",
    "menu.add((celery, ingridient_of, chilli_con_carne))\n",
    "menu.add((salt, ingridient_of, chilli_con_carne))"
   ]
  },
  {
   "cell_type": "code",
   "execution_count": 258,
   "metadata": {},
   "outputs": [
    {
     "name": "stdout",
     "output_type": "stream",
     "text": [
      "Warning: When  cdn_resources is 'local' jupyter notebook has issues displaying graphics on chrome/safari. Use cdn_resources='in_line' or cdn_resources='remote' if you have issues viewing graphics in a notebook.\n",
      "tmp.html\n"
     ]
    },
    {
     "data": {
      "text/html": [
       "\n",
       "        <iframe\n",
       "            width=\"100%\"\n",
       "            height=\"600px\"\n",
       "            src=\"tmp.html\"\n",
       "            frameborder=\"0\"\n",
       "            allowfullscreen\n",
       "            \n",
       "        ></iframe>\n",
       "        "
      ],
      "text/plain": [
       "<IPython.lib.display.IFrame at 0x13b7e3a30>"
      ]
     },
     "execution_count": 258,
     "metadata": {},
     "output_type": "execute_result"
    }
   ],
   "source": [
    "with open(\"tmp.json\", \"w\") as file:\n",
    "    file.write(menu.serialize(format=\"json-ld\", indent=2))\n",
    "\n",
    "kg = kglab.KnowledgeGraph()\n",
    "kg.load_jsonld(\"tmp.json\")\n",
    "\n",
    "subgraph = kglab.SubgraphTensor(kg)\n",
    "pyvis_graph = subgraph.build_pyvis_graph(notebook=True)\n",
    "\n",
    "pyvis_graph.force_atlas_2based()\n",
    "pyvis_graph.show(\"tmp.html\")"
   ]
  }
 ],
 "metadata": {
  "kernelspec": {
   "display_name": "Python 3 (ipykernel)",
   "language": "python",
   "name": "python3"
  },
  "language_info": {
   "codemirror_mode": {
    "name": "ipython",
    "version": 3
   },
   "file_extension": ".py",
   "mimetype": "text/x-python",
   "name": "python",
   "nbconvert_exporter": "python",
   "pygments_lexer": "ipython3",
   "version": "3.9.15"
  }
 },
 "nbformat": 4,
 "nbformat_minor": 1
}
